{
 "cells": [
  {
   "cell_type": "code",
   "execution_count": 2,
   "metadata": {},
   "outputs": [],
   "source": [
    "import pandas as pd\n",
    "\n",
    "#Import Pandas and find load our datafile\n",
    "censusProfile = pd.read_csv('Data/2011Census.csv')\n",
    "censusNames = censusProfile['Geo_Code'].unique() #Gives us a list of all census subdivisions\n",
    "\n"
   ]
  },
  {
   "cell_type": "code",
   "execution_count": 3,
   "metadata": {},
   "outputs": [],
   "source": [
    "#Census Category\n",
    "censusCategories = censusProfile['Characteristic'].unique()\n",
    "#Category Values\n",
    "categoryValue = censusProfile['Total'].unique()\n",
    "\n",
    "#Extract the category that we'll use\n",
    "usedCategory = []\n",
    "for category in censusCategories:\n",
    "    if ((category == 'Average weeks worked in 2010') or (category == 'Participation rate')\n",
    "    or (category == 'Unemployment rate') or (category == '  Average after-tax household income ($)')\n",
    "    or (category == 'Prevalence of low income in 2010 based on after-tax low-income measure (%)')):\n",
    "        usedCategory.append(category)\n",
    "\n",
    "#truncate profile to only our categories\n",
    "truncatedProfile = censusProfile[censusProfile['Characteristic'].isin(usedCategory)]\n",
    "truncatedProfile.to_csv('output/temp.csv')\n"
   ]
  },
  {
   "cell_type": "code",
   "execution_count": 1,
   "metadata": {},
   "outputs": [
    {
     "ename": "NameError",
     "evalue": "name 'pd' is not defined",
     "output_type": "error",
     "traceback": [
      "\u001b[1;31m---------------------------------------------------------------------------\u001b[0m",
      "\u001b[1;31mNameError\u001b[0m                                 Traceback (most recent call last)",
      "\u001b[1;32m<ipython-input-1-6d49cdf9eccd>\u001b[0m in \u001b[0;36m<module>\u001b[1;34m\u001b[0m\n\u001b[1;32m----> 1\u001b[1;33m \u001b[0moutputDataset\u001b[0m \u001b[1;33m=\u001b[0m \u001b[0mpd\u001b[0m\u001b[1;33m.\u001b[0m\u001b[0mDataFrame\u001b[0m\u001b[1;33m(\u001b[0m\u001b[0mcolumns\u001b[0m\u001b[1;33m=\u001b[0m\u001b[1;33m[\u001b[0m\u001b[1;34m'CSDUID'\u001b[0m\u001b[1;33m,\u001b[0m \u001b[1;34m'CSD_Name'\u001b[0m\u001b[1;33m,\u001b[0m \u001b[1;34m'Avg_income_per_houseHold'\u001b[0m\u001b[1;33m,\u001b[0m \u001b[1;34m'Low_Income_Pct'\u001b[0m\u001b[1;33m,\u001b[0m \u001b[1;34m'Participation_Rate'\u001b[0m\u001b[1;33m,\u001b[0m\u001b[1;34m'Unemployment_Rate'\u001b[0m\u001b[1;33m,\u001b[0m \u001b[1;34m'Avg Weeks Worked'\u001b[0m\u001b[1;33m]\u001b[0m\u001b[1;33m)\u001b[0m\u001b[1;33m\u001b[0m\u001b[1;33m\u001b[0m\u001b[0m\n\u001b[0m\u001b[0;32m      2\u001b[0m \u001b[1;31m#iterate through entire truncated profile\u001b[0m\u001b[1;33m\u001b[0m\u001b[1;33m\u001b[0m\u001b[1;33m\u001b[0m\u001b[0m\n\u001b[0;32m      3\u001b[0m \u001b[1;31m#for each census subdivision in censusNames\u001b[0m\u001b[1;33m\u001b[0m\u001b[1;33m\u001b[0m\u001b[1;33m\u001b[0m\u001b[0m\n\u001b[0;32m      4\u001b[0m \u001b[1;31m#find the 5 usedCategories, find their values and make them a single row\u001b[0m\u001b[1;33m\u001b[0m\u001b[1;33m\u001b[0m\u001b[1;33m\u001b[0m\u001b[0m\n\u001b[0;32m      5\u001b[0m \u001b[1;31m#{censusID: id, censusName: name, category1: value, category2: value2 ... category 5: value5}\u001b[0m\u001b[1;33m\u001b[0m\u001b[1;33m\u001b[0m\u001b[1;33m\u001b[0m\u001b[0m\n",
      "\u001b[1;31mNameError\u001b[0m: name 'pd' is not defined"
     ]
    }
   ],
   "source": [
    "outputDataset = pd.DataFrame(columns=['CSDUID', 'CSD_Name', 'Avg_income_per_houseHold', 'Low_Income_Pct', \n",
    "                                      'Participation_Rate','Unemployment_Rate', 'Avg Weeks Worked'])\n",
    "#iterate through entire truncated profile\n",
    "#for each census subdivision in censusNames\n",
    "#find the 5 usedCategories, find their values and make them a single row\n",
    "#{censusID: id, censusName: name, category1: value, category2: value2 ... category 5: value5}\n",
    "# OutputDataset.to_csv() to make our join table for ARCPRO\n",
    "code = \"s\"\n",
    "name = \"s\"\n",
    "income = 0\n",
    "lowIncome = 0\n",
    "part = 0\n",
    "unemployment = 0\n",
    "weeksWorked = 0\n",
    "datasetIndex = 0\n",
    "rowIndex = 1\n",
    "rowValue = 'Total'\n",
    "truncatedProfile = truncatedProfile.reset_index()\n",
    "for index, row in truncatedProfile.iterrows():\n",
    "    if rowIndex == 1:   #Get the code, name and first participation value\n",
    "        code = row['Geo_Code']\n",
    "        name = row['CSD_Name']\n",
    "        part = row[rowValue]\n",
    "        if part == 'x' or part == '...' or part == '..' or part == 'F' or part == '':\n",
    "            part = 999999999\n",
    "        rowIndex+= 1\n",
    "    elif rowIndex == 2:   #get unemployment\n",
    "        unemployment = row[rowValue]\n",
    "        if unemployment == 'x' or unemployment == '...' or unemployment == '..' or unemployment == 'F' or unemployment == '':\n",
    "            unemployment = 999999999\n",
    "        rowIndex+= 1\n",
    "    elif rowIndex == 3:   #get weeks worked\n",
    "        weeksWorked = row[rowValue]\n",
    "        if weeksWorked == 'x' or weeksWorked == '...' or weeksWorked == '..' or weeksWorked == 'F' or weeksWorked == '':\n",
    "            weeksWorked = 999999999\n",
    "        rowIndex+= 1\n",
    "    elif rowIndex == 4:   #get income\n",
    "        income = row[rowValue]\n",
    "        if income == 'x' or income == '...' or income == '..' or income == 'F' or income =='':\n",
    "            income = 999999999\n",
    "        rowIndex+= 1\n",
    "    elif rowIndex == 5:\n",
    "        lowIncome = row[rowValue]\n",
    "        if lowIncome == 'x' or lowIncome == '...' or lowIncome == '..' or lowIncome == 'F' or lowIncome =='':\n",
    "            lowIncome = 999999999\n",
    "        outputDataset.loc[datasetIndex] = [code] + [name] + [income] + [lowIncome] + [part] + [unemployment] + [weeksWorked]\n",
    "        rowIndex = 1\n",
    "        datasetIndex += 1\n",
    "        \n",
    "print(outputDataset)\n",
    "outputDataset.to_csv(\"Output/CensusProfileVariables2011.csv\")"
   ]
  },
  {
   "cell_type": "code",
   "execution_count": null,
   "metadata": {},
   "outputs": [],
   "source": []
  }
 ],
 "metadata": {
  "kernelspec": {
   "display_name": "Python 3",
   "language": "python",
   "name": "python3"
  },
  "language_info": {
   "codemirror_mode": {
    "name": "ipython",
    "version": 3
   },
   "file_extension": ".py",
   "mimetype": "text/x-python",
   "name": "python",
   "nbconvert_exporter": "python",
   "pygments_lexer": "ipython3",
   "version": "3.7.11"
  }
 },
 "nbformat": 4,
 "nbformat_minor": 4
}
