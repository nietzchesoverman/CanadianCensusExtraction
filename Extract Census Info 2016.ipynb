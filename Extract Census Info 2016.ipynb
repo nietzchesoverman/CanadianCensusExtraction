{
 "cells": [
  {
   "cell_type": "code",
   "execution_count": 1,
   "metadata": {},
   "outputs": [],
   "source": [
    "import pandas as pd\n",
    "\n",
    "#Import Pandas and find load our datafile\n",
    "censusProfile = pd.read_csv('Data/2016Census.csv')\n",
    "censusNames = censusProfile['GEO_NAME'].unique() #Gives us a list of all census subdivisions\n",
    "\n",
    "#print(censusNames)\n",
    "#len(censusNames)"
   ]
  },
  {
   "cell_type": "code",
   "execution_count": 1,
   "metadata": {},
   "outputs": [
    {
     "ename": "NameError",
     "evalue": "name 'censusProfile' is not defined",
     "output_type": "error",
     "traceback": [
      "\u001b[1;31m---------------------------------------------------------------------------\u001b[0m",
      "\u001b[1;31mNameError\u001b[0m                                 Traceback (most recent call last)",
      "\u001b[1;32m<ipython-input-1-ced025cf06e7>\u001b[0m in \u001b[0;36m<module>\u001b[1;34m\u001b[0m\n\u001b[0;32m      1\u001b[0m \u001b[1;31m#Census Category\u001b[0m\u001b[1;33m\u001b[0m\u001b[1;33m\u001b[0m\u001b[1;33m\u001b[0m\u001b[0m\n\u001b[1;32m----> 2\u001b[1;33m \u001b[0mcensusCategories\u001b[0m \u001b[1;33m=\u001b[0m \u001b[0mcensusProfile\u001b[0m\u001b[1;33m[\u001b[0m\u001b[1;34m'DIM: Profile of Census Subdivisions (2247)'\u001b[0m\u001b[1;33m]\u001b[0m\u001b[1;33m.\u001b[0m\u001b[0munique\u001b[0m\u001b[1;33m(\u001b[0m\u001b[1;33m)\u001b[0m\u001b[1;33m\u001b[0m\u001b[1;33m\u001b[0m\u001b[0m\n\u001b[0m\u001b[0;32m      3\u001b[0m \u001b[1;31m#Category Values\u001b[0m\u001b[1;33m\u001b[0m\u001b[1;33m\u001b[0m\u001b[1;33m\u001b[0m\u001b[0m\n\u001b[0;32m      4\u001b[0m \u001b[0mcategoryValue\u001b[0m \u001b[1;33m=\u001b[0m \u001b[0mcensusProfile\u001b[0m\u001b[1;33m[\u001b[0m\u001b[1;34m'Dim: Sex (3): Member ID: [1]: Total - Sex'\u001b[0m\u001b[1;33m]\u001b[0m\u001b[1;33m.\u001b[0m\u001b[0munique\u001b[0m\u001b[1;33m(\u001b[0m\u001b[1;33m)\u001b[0m\u001b[1;33m\u001b[0m\u001b[1;33m\u001b[0m\u001b[0m\n\u001b[0;32m      5\u001b[0m \u001b[1;33m\u001b[0m\u001b[0m\n",
      "\u001b[1;31mNameError\u001b[0m: name 'censusProfile' is not defined"
     ]
    }
   ],
   "source": [
    "#Census Category\n",
    "censusCategories = censusProfile['DIM: Profile of Census Subdivisions (2247)'].unique()\n",
    "#Category Values\n",
    "categoryValue = censusProfile['Dim: Sex (3): Member ID: [1]: Total - Sex'].unique()\n",
    "\n",
    "#Extract the category that we'll use\n",
    "usedCategory = []\n",
    "for category in censusCategories:\n",
    "    if ((category == 'Average weeks worked in reference year') or \n",
    "    (category == 'Participation rate') or (category == 'Unemployment rate') or \n",
    "    (category == 'Average after-tax income of households in 2015 ($)') or \n",
    "    (category == 'Prevalence of low income based on the Low-income cut-offs, after tax (LICO-AT) (%)')):\n",
    "        usedCategory.append(category)\n",
    "\n",
    "#truncate profile to only our categories\n",
    "truncatedProfile = censusProfile[censusProfile['DIM: Profile of Census Subdivisions (2247)'].isin(usedCategory)]\n"
   ]
  },
  {
   "cell_type": "code",
   "execution_count": 2,
   "metadata": {},
   "outputs": [
    {
     "ename": "NameError",
     "evalue": "name 'pd' is not defined",
     "output_type": "error",
     "traceback": [
      "\u001b[1;31m---------------------------------------------------------------------------\u001b[0m",
      "\u001b[1;31mNameError\u001b[0m                                 Traceback (most recent call last)",
      "\u001b[1;32m<ipython-input-2-e547bc485de5>\u001b[0m in \u001b[0;36m<module>\u001b[1;34m\u001b[0m\n\u001b[1;32m----> 1\u001b[1;33m \u001b[0moutputDataset\u001b[0m \u001b[1;33m=\u001b[0m \u001b[0mpd\u001b[0m\u001b[1;33m.\u001b[0m\u001b[0mDataFrame\u001b[0m\u001b[1;33m(\u001b[0m\u001b[0mcolumns\u001b[0m\u001b[1;33m=\u001b[0m\u001b[1;33m[\u001b[0m\u001b[1;34m'CSDUID'\u001b[0m\u001b[1;33m,\u001b[0m \u001b[1;34m'CSD_Name'\u001b[0m\u001b[1;33m,\u001b[0m \u001b[1;34m'Avg_income'\u001b[0m\u001b[1;33m,\u001b[0m \u001b[1;34m'Low_Income'\u001b[0m\u001b[1;33m,\u001b[0m \u001b[1;34m'Participation_Rate'\u001b[0m\u001b[1;33m,\u001b[0m\u001b[1;34m'Unemployment_Rate'\u001b[0m\u001b[1;33m,\u001b[0m\u001b[1;34m'Avg_Weeks_Worked'\u001b[0m\u001b[1;33m]\u001b[0m\u001b[1;33m)\u001b[0m\u001b[1;33m\u001b[0m\u001b[1;33m\u001b[0m\u001b[0m\n\u001b[0m\u001b[0;32m      2\u001b[0m \u001b[1;31m#iterate through entire truncated profile\u001b[0m\u001b[1;33m\u001b[0m\u001b[1;33m\u001b[0m\u001b[1;33m\u001b[0m\u001b[0m\n\u001b[0;32m      3\u001b[0m \u001b[1;31m#for each census subdivision in censusNames\u001b[0m\u001b[1;33m\u001b[0m\u001b[1;33m\u001b[0m\u001b[1;33m\u001b[0m\u001b[0m\n\u001b[0;32m      4\u001b[0m \u001b[1;31m#find the 5 usedCategories, find their values and make them a single row\u001b[0m\u001b[1;33m\u001b[0m\u001b[1;33m\u001b[0m\u001b[1;33m\u001b[0m\u001b[0m\n\u001b[0;32m      5\u001b[0m \u001b[1;31m#{censusID: id, censusName: name, category1: value, category2: value2 ... category 5: value5}\u001b[0m\u001b[1;33m\u001b[0m\u001b[1;33m\u001b[0m\u001b[1;33m\u001b[0m\u001b[0m\n",
      "\u001b[1;31mNameError\u001b[0m: name 'pd' is not defined"
     ]
    }
   ],
   "source": [
    "outputDataset = pd.DataFrame(columns=['CSDUID', 'CSD_Name', 'Avg_income',\n",
    "                                      'Low_Income', 'Participation_Rate','Unemployment_Rate','Avg_Weeks_Worked'])\n",
    "#iterate through entire truncated profile\n",
    "#for each census subdivision in censusNames\n",
    "#find the 5 usedCategories, find their values and make them a single row\n",
    "#{censusID: id, censusName: name, category1: value, category2: value2 ... category 5: value5}\n",
    "# OutputDataset.to_csv() to make our join table for ARCPRO\n",
    "code = \"s\"\n",
    "name = \"s\"\n",
    "income = 0\n",
    "lowIncome = 0\n",
    "part = 0\n",
    "unemployment = 0\n",
    "weeksWorked = 0\n",
    "datasetIndex = 0\n",
    "rowIndex = 1\n",
    "rowValue = 'Dim: Sex (3): Member ID: [1]: Total - Sex'\n",
    "truncatedProfile = truncatedProfile.reset_index()\n",
    "for index, row in truncatedProfile.iterrows():\n",
    "    if rowIndex == 1:   #Get the code, name and first income value\n",
    "        code = row['GEO_CODE (POR)']\n",
    "        name = row['GEO_NAME']\n",
    "        income = row[rowValue]\n",
    "        if income == 'x' or income == '...' or income == '..' or income == 'F':\n",
    "            income = 999999999\n",
    "        rowIndex+= 1\n",
    "    elif rowIndex == 2:   #get low Income\n",
    "        lowIncome = row[rowValue]\n",
    "        if lowIncome == 'x' or lowIncome == '...' or lowIncome == '..' or lowIncome == 'F':\n",
    "            lowIncome = 999999999\n",
    "        rowIndex+= 1\n",
    "    elif rowIndex == 3:   #get participation\n",
    "        part = row[rowValue]\n",
    "        if part == 'x' or part == '...' or part == '..' or part == 'F':\n",
    "            part = 999999999\n",
    "        rowIndex+= 1\n",
    "    elif rowIndex == 4:   #get unemployment\n",
    "        unemployment = row[rowValue]\n",
    "        if unemployment == 'x' or unemployment == '...' or unemployment == '..' or unemployment == 'F':\n",
    "            unemployment = 999999999\n",
    "        rowIndex+= 1\n",
    "    elif rowIndex == 5:   #get weeks worked and write to data frame\n",
    "        weeksWorked = row[rowValue]\n",
    "        if weeksWorked == 'x' or weeksWorked == '...' or weeksWorked == '..' or weeksWorked == 'F':\n",
    "            weeksWorked = 999999999\n",
    "        outputDataset.loc[datasetIndex] = [code] + [name] + [income] + [lowIncome] + [part] + [unemployment] + [weeksWorked]\n",
    "        rowIndex = 1\n",
    "        datasetIndex += 1\n",
    "        \n",
    "print(outputDataset)\n",
    "outputDataset.to_csv(\"Output/CensusProfileVariables2016.csv\")"
   ]
  },
  {
   "cell_type": "code",
   "execution_count": null,
   "metadata": {},
   "outputs": [],
   "source": []
  }
 ],
 "metadata": {
  "kernelspec": {
   "display_name": "Python 3",
   "language": "python",
   "name": "python3"
  },
  "language_info": {
   "codemirror_mode": {
    "name": "ipython",
    "version": 3
   },
   "file_extension": ".py",
   "mimetype": "text/x-python",
   "name": "python",
   "nbconvert_exporter": "python",
   "pygments_lexer": "ipython3",
   "version": "3.7.11"
  }
 },
 "nbformat": 4,
 "nbformat_minor": 4
}
