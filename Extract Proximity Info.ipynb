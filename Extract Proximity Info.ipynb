{
 "cells": [
  {
   "cell_type": "code",
   "execution_count": 1,
   "metadata": {},
   "outputs": [],
   "source": [
    "import pandas as pd\n",
    "\n",
    "#Import Pandas and find load our datafile\n",
    "censusProfile = pd.read_csv('Data/Proximity.csv')\n",
    "censusProfile = censusProfile[censusProfile['PRNAME'].isin(['Ontario'])]\n",
    "censusProfile = censusProfile.sort_values(by=['CSDUID'])\n",
    "censusProfile.to_csv('output/ontarioprox.csv')\n",
    "\n",
    "censusNames = censusProfile['CSDUID'].unique()\n"
   ]
  },
  {
   "cell_type": "code",
   "execution_count": 2,
   "metadata": {},
   "outputs": [],
   "source": [
    "groupedCensus = censusProfile.groupby('CSDUID')\n",
    "csdIndexed = {}\n",
    "categories = ['prox_idx_emp', 'prox_idx_pharma', 'prox_idx_childcare',\n",
    "              'prox_idx_health', 'prox_idx_grocery', 'prox_idx_educpri',\n",
    "              'prox_idx_educsec','prox_idx_lib','prox_idx_parks','prox_idx_transit']\n",
    "for censusID in censusNames:\n",
    "    singleCSDProximities = groupedCensus.get_group(censusID)\n",
    "    singleCSDProximities = singleCSDProximities.reset_index()\n",
    "    csdIndexed[censusID] = 0.0\n",
    "    i = 0\n",
    "    disseminationAggregate = []\n",
    "    #For each dissemination block in the census subdivision, aggregate its proximity index of the 10 indices\n",
    "    for index, row in singleCSDProximities.iterrows():\n",
    "        disseminationAggregate.append(0)\n",
    "        for cat in categories:\n",
    "            if (row[cat] == '' or row[cat] == '..' or row[cat] == 'F'):\n",
    "                row[cat] = 0\n",
    "            disseminationAggregate[i] = disseminationAggregate[i] + (float)(row[cat])\n",
    "        disseminationAggregate[i] = disseminationAggregate[i]/10\n",
    "        i = i + 1\n",
    "    #add up all the dissemination blocks and divide by the number of dissemination blocks in the census subdivision\n",
    "    #this will give us an aggergate of the proximity index for the census subdivision\n",
    "    for db in disseminationAggregate:\n",
    "        csdIndexed[censusID] = csdIndexed[censusID] + db\n",
    "    csdIndexed[censusID] = csdIndexed[censusID] / (i)\n",
    "\n",
    "    "
   ]
  },
  {
   "cell_type": "code",
   "execution_count": 68,
   "metadata": {},
   "outputs": [
    {
     "name": "stdout",
     "output_type": "stream",
     "text": [
      "        CSDUID  Proximity_Index\n",
      "0    3501005.0         0.004466\n",
      "1    3501007.0         0.000379\n",
      "2    3501011.0         0.004356\n",
      "3    3501012.0         0.032407\n",
      "4    3501020.0         0.011553\n",
      "..         ...              ...\n",
      "570  3560097.0         0.000877\n",
      "571  3560098.0         0.000000\n",
      "572  3560100.0         0.000000\n",
      "573  3560102.0         0.000000\n",
      "574  3560104.0         0.000260\n",
      "\n",
      "[575 rows x 2 columns]\n"
     ]
    }
   ],
   "source": [
    "outputDataset = pd.DataFrame(columns=['CSDUID', 'Proximity_Index'])\n",
    "\n",
    "datasetIndex = 0\n",
    "\n",
    "for censusID in censusNames:\n",
    "    outputDataset.loc[datasetIndex] = [(int)(censusID)] + [csdIndexed[censusID]]\n",
    "    datasetIndex = datasetIndex + 1\n",
    "        \n",
    "print(outputDataset)\n",
    "outputDataset.to_csv('output/proximityIndexbyCSD.csv')\n"
   ]
  },
  {
   "cell_type": "code",
   "execution_count": null,
   "metadata": {},
   "outputs": [],
   "source": []
  }
 ],
 "metadata": {
  "kernelspec": {
   "display_name": "Python 3",
   "language": "python",
   "name": "python3"
  },
  "language_info": {
   "codemirror_mode": {
    "name": "ipython",
    "version": 3
   },
   "file_extension": ".py",
   "mimetype": "text/x-python",
   "name": "python",
   "nbconvert_exporter": "python",
   "pygments_lexer": "ipython3",
   "version": "3.7.11"
  }
 },
 "nbformat": 4,
 "nbformat_minor": 4
}
