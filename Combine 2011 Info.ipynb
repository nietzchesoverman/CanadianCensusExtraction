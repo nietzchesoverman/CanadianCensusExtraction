{
 "cells": [
  {
   "cell_type": "code",
   "execution_count": 26,
   "metadata": {
    "scrolled": true
   },
   "outputs": [],
   "source": [
    "import pandas as pd\n",
    "\n",
    "#Import Pandas and load our files\n",
    "censusProfile = pd.read_csv('Output/CensusProfileVariables2011.csv')\n",
    "instabilityIndex = pd.read_csv('Data/2011Instability.csv')\n",
    "proximityIndex = pd.read_csv('Output/proximityIndexbyCSD.csv')\n",
    "\n",
    "censusProfile.reset_index()\n",
    "\n",
    "censusProfile = pd.merge(censusProfile, instabilityIndex, on='CSDUID')\n",
    "\n",
    "censusProfile = pd.merge(censusProfile, proximityIndex, on='CSDUID')\n",
    "        \n",
    "censusProfile.to_csv('Output/2011Combined.csv')"
   ]
  }
 ],
 "metadata": {
  "kernelspec": {
   "display_name": "Python 3",
   "language": "python",
   "name": "python3"
  },
  "language_info": {
   "codemirror_mode": {
    "name": "ipython",
    "version": 3
   },
   "file_extension": ".py",
   "mimetype": "text/x-python",
   "name": "python",
   "nbconvert_exporter": "python",
   "pygments_lexer": "ipython3",
   "version": "3.7.11"
  }
 },
 "nbformat": 4,
 "nbformat_minor": 4
}
