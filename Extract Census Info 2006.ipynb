{
 "cells": [
  {
   "cell_type": "code",
   "execution_count": 1,
   "metadata": {},
   "outputs": [],
   "source": [
    "import pandas as pd\n",
    "\n",
    "#Import Pandas and find load our datafile\n",
    "censusProfile = pd.read_csv('Data/2006OntarioCensus.csv')\n",
    "censusNames = censusProfile['CSD_Name'].unique() #Gives us a list of all census subdivisions\n",
    "\n"
   ]
  },
  {
   "cell_type": "code",
   "execution_count": 22,
   "metadata": {},
   "outputs": [],
   "source": [
    "#Census Category\n",
    "censusCategories = censusProfile['Characteristic'].unique()\n",
    "#Category Values\n",
    "categoryValue = censusProfile['Total'].unique()\n",
    "\n",
    "#Extract the category that we'll use\n",
    "usedCategory = []\n",
    "for category in censusCategories:\n",
    "    if ((category == 'Average weeks worked in reference year') or\n",
    "    (category == 'Participation rate') or (category == 'Unemployment rate')\n",
    "    or (category == 'Median after-tax income in 2005 - All private households ($)')\n",
    "    or (category == '      % in low income after tax - All persons')):\n",
    "        usedCategory.append(category)\n",
    "\n",
    "#truncate profile to only our categories\n",
    "truncatedProfile = censusProfile[censusProfile['Characteristic'].isin(usedCategory)]\n"
   ]
  },
  {
   "cell_type": "code",
   "execution_count": 23,
   "metadata": {},
   "outputs": [
    {
     "name": "stdout",
     "output_type": "stream",
     "text": [
      "      CSDUID                     CSD_Name  Avg_income_per_houseHold  \\\n",
      "0    3501005              South Glengarry                   52968.0   \n",
      "1    3501007          Akwesasne (Part) 59                       NaN   \n",
      "2    3501011               South Stormont                   50603.0   \n",
      "3    3501012                     Cornwall                   35776.0   \n",
      "4    3501020                 South Dundas                   47195.0   \n",
      "..       ...                          ...                       ...   \n",
      "580  3560097             Muskrat Dam Lake                   40064.0   \n",
      "581  3560098            Kingfisher Lake 1                   35840.0   \n",
      "582  3560100  Wawakapewin (Long Dog Lake)                       NaN   \n",
      "583  3560102               MacDowell Lake                       NaN   \n",
      "584  3560104                  Kee-Way-Win                   35456.0   \n",
      "\n",
      "     Low_Income_Pct  Participation_Rate  Unemployment_Rate  \n",
      "0               3.6                64.8                4.6  \n",
      "1               NaN                 NaN                NaN  \n",
      "2               5.0                66.2                6.4  \n",
      "3              14.5                55.9                7.6  \n",
      "4               5.1                61.8                4.8  \n",
      "..              ...                 ...                ...  \n",
      "580             0.0                75.0                0.0  \n",
      "581             0.0                55.8                6.9  \n",
      "582             NaN                 NaN                NaN  \n",
      "583             NaN                 NaN                NaN  \n",
      "584             0.0                55.3               28.6  \n",
      "\n",
      "[585 rows x 6 columns]\n"
     ]
    }
   ],
   "source": [
    "outputDataset = pd.DataFrame(columns=['CSDUID', 'CSD_Name', 'Avg_income_per_houseHold', \n",
    "                                      'Low_Income_Pct', 'Participation_Rate','Unemployment_Rate'])\n",
    "#iterate through entire truncated profile\n",
    "#for each census subdivision in censusNames\n",
    "#find the 5 usedCategories, find their values and make them a single row\n",
    "#{censusID: id, censusName: name, category1: value, category2: value2 ... category 4: value4}\n",
    "# OutputDataset.to_csv() to make our join table for ARCPRO\n",
    "code = \"s\"\n",
    "name = \"s\"\n",
    "income = 0\n",
    "lowIncome = 0\n",
    "part = 0\n",
    "unemployment = 0\n",
    "weeksWorked = 0\n",
    "datasetIndex = 0\n",
    "rowIndex = 1\n",
    "rowValue = 'Total'\n",
    "truncatedProfile = truncatedProfile.reset_index()\n",
    "for index, row in truncatedProfile.iterrows():\n",
    "    if rowIndex == 1:   #Get the code, name and first income value\n",
    "        code = row['Geo_Code']\n",
    "        name = row['CSD_Name']\n",
    "        income = row[rowValue]\n",
    "        if income == 'x' or income == '...' or income == '..' or income == 'F' or income == '':\n",
    "            income = 999999999\n",
    "        rowIndex+= 1\n",
    "    elif rowIndex == 4:   #get low Income\n",
    "        lowIncome = row[rowValue]\n",
    "        if lowIncome == 'x' or lowIncome == '...' or lowIncome == '..' or lowIncome == 'F' or lowIncome == '':\n",
    "            lowIncome = 999999999\n",
    "        rowIndex+= 1\n",
    "        outputDataset.loc[datasetIndex] = [code] + [name] + [income] + [lowIncome] + [part] + [unemployment]\n",
    "        rowIndex = 1\n",
    "        datasetIndex += 1\n",
    "    elif rowIndex == 2:   #get participation\n",
    "        part = row[rowValue]\n",
    "        if part == 'x' or part == '...' or part == '..' or part == 'F' or part == '':\n",
    "            part = 999999999\n",
    "        rowIndex+= 1\n",
    "    elif rowIndex == 3:   #get unemployment\n",
    "        unemployment = row[rowValue]\n",
    "        if unemployment == 'x' or unemployment == '...' or unemployment == '..' or unemployment == 'F' or unemployment =='':\n",
    "            unemployment = 999999999\n",
    "        rowIndex+= 1\n",
    "        \n",
    "print(outputDataset)\n",
    "outputDataset.to_csv(\"Output/CensusProfileVariables2006.csv\")"
   ]
  },
  {
   "cell_type": "code",
   "execution_count": null,
   "metadata": {},
   "outputs": [],
   "source": []
  }
 ],
 "metadata": {
  "kernelspec": {
   "display_name": "Python 3",
   "language": "python",
   "name": "python3"
  },
  "language_info": {
   "codemirror_mode": {
    "name": "ipython",
    "version": 3
   },
   "file_extension": ".py",
   "mimetype": "text/x-python",
   "name": "python",
   "nbconvert_exporter": "python",
   "pygments_lexer": "ipython3",
   "version": "3.7.11"
  }
 },
 "nbformat": 4,
 "nbformat_minor": 4
}
